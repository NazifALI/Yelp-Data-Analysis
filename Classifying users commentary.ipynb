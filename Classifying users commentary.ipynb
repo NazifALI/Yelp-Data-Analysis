{
 "cells": [
  {
   "cell_type": "markdown",
   "metadata": {},
   "source": []
  },
  {
   "cell_type": "code",
   "execution_count": 1,
   "metadata": {
    "collapsed": false
   },
   "outputs": [
    {
     "data": {
      "text/plain": [
       "\"userDf = pd.read_csv('yelp_academic_dataset_user.csv')\\n#convert string to timestampe\\nuserDf['joined']= pd.to_datetime(userDf['yelping_since'])\\n#group by year and count occurrences\\nyearGrouping = userDf.groupby(userDf['joined'].map(lambda x : x.year))['yelping_since'].count()\\n\\nuserDf['number of Friends'] = userDf['friends'].apply( lambda x : len(ast.literal_eval(x)))\\nuserDf['target'] =  userDf['elite']!='[]'\\nprint userDf.dtypes\""
      ]
     },
     "execution_count": 1,
     "metadata": {},
     "output_type": "execute_result"
    }
   ],
   "source": [
    "import pandas as pd\n",
    "import matplotlib.pyplot as plt\n",
    "\n",
    "\n",
    "import numpy as np\n",
    "\n",
    "\n",
    "%matplotlib inline\n",
    "userDf = pd.read_csv('processed_user_data.csv')\n",
    "\n",
    "'''userDf = pd.read_csv('yelp_academic_dataset_user.csv')\n",
    "#convert string to timestampe\n",
    "userDf['joined']= pd.to_datetime(userDf['yelping_since'])\n",
    "#group by year and count occurrences\n",
    "yearGrouping = userDf.groupby(userDf['joined'].map(lambda x : x.year))['yelping_since'].count()\n",
    "\n",
    "userDf['number of Friends'] = userDf['friends'].apply( lambda x : len(ast.literal_eval(x)))\n",
    "userDf['target'] =  userDf['elite']!='[]'\n",
    "print userDf.dtypes'''\n"
   ]
  },
  {
   "cell_type": "markdown",
   "metadata": {},
   "source": [
    "# Random Forest Classifier\n",
    "Is it possible to classify users into elite and normal classes? We first tried a random forest classifier to see if learning over a small subset of features produced any promising results. The results are somewhat promising however we noticed something interesting. The ratio of elite users to normal users is about 35,000 to 460,000 users! The dataset is incredibly unbalanced, roughly a ratio of 1:20, meaning that only 5% of all users are labeled elite. This poses a major problem for any flavor of classifier. To illustrate the issue at hand, consider a degenerate classifier that guesses every user is a normal user. What an awful classifier! Unfortunately, applying this classifier will yield an accuracy of about 95%. Sampling techniques such as oversampling and undersampling can combat unbalanced data sets, however scikit's classifiers have a class weight parameter that computes the ratio of classes to one another and assigns a weight according to each classes frequency. Using the correct class weight, we expect that the acccuracy of the classifier will decrease because it will no longer overfit the data by stupidly guessing normal for all cases, thus making the classifier more generalizeable."
   ]
  },
  {
   "cell_type": "code",
   "execution_count": 2,
   "metadata": {
    "collapsed": false
   },
   "outputs": [
    {
     "name": "stdout",
     "output_type": "stream",
     "text": [
      "0.18.1\n"
     ]
    },
    {
     "name": "stderr",
     "output_type": "stream",
     "text": [
      "/Users/PatrickYu/anaconda/lib/python2.7/site-packages/sklearn/cross_validation.py:44: DeprecationWarning: This module was deprecated in version 0.18 in favor of the model_selection module into which all the refactored classes and functions are moved. Also note that the interface of the new CV iterators are different from that of this module. This module will be removed in 0.20.\n",
      "  \"This module will be removed in 0.20.\", DeprecationWarning)\n"
     ]
    },
    {
     "name": "stdout",
     "output_type": "stream",
     "text": [
      "0.953835061757\n",
      "[False False False ..., False False False]\n"
     ]
    }
   ],
   "source": [
    "import sklearn as sk\n",
    "print sk.__version__\n",
    "\n",
    "\n",
    "from sklearn.ensemble import RandomForestClassifier\n",
    "from sklearn import cross_validation\n",
    "from sklearn import metrics\n",
    "import warnings\n",
    "warnings.filterwarnings('ignore')\n",
    "\n",
    "userDf.fillna(0,inplace=True)\n",
    "\n",
    "features = ['number of Friends','fans','review_count','fans']\n",
    "X_train, X_test, Y_train, Y_test =  cross_validation.train_test_split(userDf[features],userDf['target'],train_size=0.8,test_size=0.2)\n",
    "clf = RandomForestClassifier(class_weight='auto')\n",
    "clf.fit(X_train,Y_train)\n",
    "print clf.score(X_test,Y_test)\n",
    "print clf.predict(X_test)\n"
   ]
  },
  {
   "cell_type": "markdown",
   "metadata": {},
   "source": [
    "# Using the full data set\n",
    "Now we are going to consider all the numeric features in our dataset. The classifier is doing some form of over or under sampling so that our class weight is not terribly unbalanced and biased agianst elite users. The accuracy has improved to about 98%, and we have an R-squared value of 0.55 which is acceptable.\n"
   ]
  },
  {
   "cell_type": "code",
   "execution_count": 3,
   "metadata": {
    "collapsed": false
   },
   "outputs": [
    {
     "name": "stdout",
     "output_type": "stream",
     "text": [
      "Epoch Score: 0.977569331158\n",
      "Epoch Score: 0.97800629224\n",
      "Epoch Score: 0.97799172687\n",
      "Epoch Score: 0.976986716383\n",
      "Epoch Score: 0.977496504311\n",
      "Epoch Score: 0.977744115591\n",
      "Epoch Score: 0.978326414682\n",
      "Epoch Score: 0.97745247979\n",
      "Epoch Score: 0.977321389556\n",
      "Epoch Score: 0.977146602578\n",
      "Absolute Error: 0.022395842684\n",
      "Squared Error: 0.022395842684\n",
      "R2: 0.546782063961\n"
     ]
    }
   ],
   "source": [
    "\n",
    "features = userDf.select_dtypes(include=[np.number])\n",
    "cols = [col for col in features.columns if col not in ['Unnamed: 0', 'logstdScore', 'lognormScore','probEliteUser','probNormalUser','score','logScore','customProbEliteUser']]\n",
    "features = features[cols]\n",
    "target = userDf['target']\n",
    "clf = RandomForestClassifier(class_weight='balanced')\n",
    "numFolds=10\n",
    "absoluteError=0.0\n",
    "sqError=0.0\n",
    "R2 = 0.0\n",
    "kf = cross_validation.KFold(len(features), n_folds=numFolds, shuffle=True)\n",
    "\n",
    "for train_index, test_index in kf:\n",
    "    xTrain, xTest =  features.iloc[train_index], features.iloc[test_index]\n",
    "    yTrain, yTest = target.iloc[train_index], target.iloc[test_index]\n",
    "    print 'Epoch Score:',clf.fit(xTrain,yTrain).score(xTest,yTest)\n",
    "    absoluteError = absoluteError + metrics.mean_absolute_error(yTest, clf.predict(xTest))\n",
    "    sqError = sqError + metrics.mean_squared_error(yTest, clf.predict(xTest))\n",
    "    R2 = R2 + metrics.r2_score(yTest,clf.predict(xTest))\n",
    "print 'Absolute Error:',absoluteError/numFolds\n",
    "print 'Squared Error:',sqError/numFolds\n",
    "print 'R2:',R2/numFolds"
   ]
  },
  {
   "cell_type": "markdown",
   "metadata": {},
   "source": [
    "## Unbalanced class validation\n",
    "Because the dataset is unbalanced, we decided to run it against only the elite users to verify that the classifier has not stupifyed itself. Here we get see that the predictive accuracy is about 94% which is good new! This means that the classifier has selected class weights reasonably and also that it has not overfit to the data."
   ]
  },
  {
   "cell_type": "code",
   "execution_count": 4,
   "metadata": {
    "collapsed": false
   },
   "outputs": [
    {
     "name": "stdout",
     "output_type": "stream",
     "text": [
      "[False  True  True ...,  True  True  True]\n"
     ]
    },
    {
     "data": {
      "text/plain": [
       "0.93566320259246838"
      ]
     },
     "execution_count": 4,
     "metadata": {},
     "output_type": "execute_result"
    }
   ],
   "source": [
    "eliteUsers = userDf[userDf['target']==True]\n",
    "elitefeatures = eliteUsers.select_dtypes(include=[np.number])\n",
    "elitefeatures = elitefeatures[cols]\n",
    "#features = features[cols]\n",
    "#target = userDf['target']\n",
    "target = eliteUsers['target']\n",
    "print clf.predict(elitefeatures)\n",
    "clf.score(elitefeatures,target)"
   ]
  },
  {
   "cell_type": "code",
   "execution_count": 5,
   "metadata": {
    "collapsed": false
   },
   "outputs": [
    {
     "name": "stdout",
     "output_type": "stream",
     "text": [
      "[ 0.13923249  0.30893338  0.00210412  0.00831697  0.00964822  0.00580112\n",
      "  0.01373018  0.01492851  0.00159349  0.01935017  0.00320626  0.26140496\n",
      "  0.00075667  0.15440092  0.00307738  0.00444977  0.03122815  0.01783723]\n"
     ]
    }
   ],
   "source": [
    "print clf.feature_importances_"
   ]
  },
  {
   "cell_type": "markdown",
   "metadata": {},
   "source": [
    "# Feature Importances\n",
    "Now that we have a reasonably well-trained and accurate classifier we can look at the imporant features in our classification model and what their impact is on our analysis. Steve McQueen, a.k.a. the king of cool, would be pleased to find that the most important aspect of being an elite user member is that you are cool! Coming in at a whopping 23.2% being cool is the cat's pjyamas, the bee's knees, the... You get the idea. Being cool is fairly meaningful but that is not the only imporant feature users should have. Other featurs are less surprising: review count, number of fans. Surprisingly in this model, the number of fans, and friends did not rank in the top 5 as we believed they were."
   ]
  },
  {
   "cell_type": "code",
   "execution_count": 6,
   "metadata": {
    "collapsed": false
   },
   "outputs": [
    {
     "name": "stdout",
     "output_type": "stream",
     "text": [
      "Feature ranking:\n",
      "1.  review_count (0.308933)\n",
      "2.  votes.cool (0.261405)\n",
      "3.  votes.funny (0.154401)\n",
      "4.  compliments.plain (0.139232)\n",
      "5.  votes.useful (0.031228)\n",
      "6.  average_stars (0.019350)\n",
      "7.  number of Friends (0.017837)\n",
      "8.  compliments.cool (0.014929)\n",
      "9.  compliments.hot (0.013730)\n",
      "10.  fans (0.009648)\n",
      "11.  compliments.writer (0.008317)\n",
      "12.  compliments.note (0.005801)\n",
      "13.  compliments.funny (0.004450)\n",
      "14.  compliments.more (0.003206)\n",
      "15.  compliments.photos (0.003077)\n",
      "16.  compliments.cute (0.002104)\n",
      "17.  compliments.profile (0.001593)\n",
      "18.  compliments.list (0.000757)\n"
     ]
    },
    {
     "data": {
      "image/png": "[encoded data removed]",
      "text/plain": [
       "<matplotlib.figure.Figure at 0x11ac1abd0>"
      ]
     },
     "metadata": {},
     "output_type": "display_data"
    }
   ],
   "source": [
    "importances = clf.feature_importances_\n",
    "std = np.std([tree.feature_importances_ for tree in clf.estimators_],\n",
    "             axis=0)\n",
    "indices = np.argsort(importances)[::-1]\n",
    "\n",
    "# Print the feature ranking\n",
    "print(\"Feature ranking:\")\n",
    "\n",
    "for f in range(features.shape[1]):\n",
    "    print(\"%d.  %s (%f)\" % (f + 1, features.columns[indices[f]], importances[indices[f]]))\n",
    "\n",
    "# Plot the feature importances of the forest\n",
    "plt.figure()\n",
    "plt.title(\"Feature importances\")\n",
    "plt.xlabel(\"Feature Index\")\n",
    "plt.ylabel(\"Importance\")\n",
    "plt.bar(range(features.shape[1]), importances[indices],\n",
    "       color=\"r\", yerr=std[indices], align=\"center\")\n",
    "plt.xticks(range(features.shape[1]), indices)\n",
    "plt.xlim([-1, features.shape[1]])\n",
    "plt.show()"
   ]
  },
  {
   "cell_type": "code",
   "execution_count": 7,
   "metadata": {
    "collapsed": false
   },
   "outputs": [
    {
     "name": "stdout",
     "output_type": "stream",
     "text": [
      "Index([u'compliments.plain', u'review_count', u'compliments.cute',\n",
      "       u'compliments.writer', u'fans', u'compliments.note', u'compliments.hot',\n",
      "       u'compliments.cool', u'compliments.profile', u'average_stars',\n",
      "       u'compliments.more', u'votes.cool', u'compliments.list', u'votes.funny',\n",
      "       u'compliments.photos', u'compliments.funny', u'votes.useful',\n",
      "       u'number of Friends'],\n",
      "      dtype='object')\n",
      "   compliments.plain  review_count  compliments.cute  compliments.writer  \\\n",
      "0               25.0           108              15.0                 9.0   \n",
      "1              970.0          1292             204.0               346.0   \n",
      "2               86.0           395              22.0                24.0   \n",
      "3                0.0            11               2.0                 0.0   \n",
      "4                2.0            66               2.0                 2.0   \n",
      "\n",
      "   fans  compliments.note  compliments.hot  compliments.cool  \\\n",
      "0    69              20.0             48.0              76.0   \n",
      "1  1345             611.0           1111.0            1675.0   \n",
      "2   105              79.0             99.0             134.0   \n",
      "3     2               0.0              0.0               0.0   \n",
      "4     5               1.0              1.0               1.0   \n",
      "\n",
      "   compliments.profile  average_stars  compliments.more  votes.cool  \\\n",
      "0                  8.0           4.14               3.0         246   \n",
      "1                117.0           3.67             137.0       12091   \n",
      "2                  9.0           3.68              18.0         657   \n",
      "3                  0.0           4.64               0.0           5   \n",
      "4                  0.0           3.80               1.0          16   \n",
      "\n",
      "   compliments.list  votes.funny  compliments.photos  compliments.funny  \\\n",
      "0               0.0          167                14.0               11.0   \n",
      "1              38.0         8399               361.0              594.0   \n",
      "2               4.0          722                27.0               96.0   \n",
      "3               0.0            1                 0.0                0.0   \n",
      "4               0.0           13                 0.0                0.0   \n",
      "\n",
      "   votes.useful  number of Friends  \n",
      "0           282                200  \n",
      "1         15242               1939  \n",
      "2          1349                422  \n",
      "3            11                  4  \n",
      "4            37                  4  \n"
     ]
    }
   ],
   "source": [
    "print features.columns\n",
    "print features.head()"
   ]
  },
  {
   "cell_type": "code",
   "execution_count": 8,
   "metadata": {
    "collapsed": true
   },
   "outputs": [],
   "source": [
    "### Setup for data visualization\n",
    "import plotly.plotly as py\n",
    "import plotly.graph_objs as go\n",
    "import plotly\n",
    "\n",
    "### You need to create a plotly account.\n",
    "### Use the username API key  \n",
    "#plotly.tools.set_credentials_file(username='in99patrick', api_key='Vihz7D87ShjBelThi18E')\n",
    "plotly.tools.set_credentials_file(username='yu.yuanpeng', api_key='tPOtUdbPgaBabQscZePp')"
   ]
  },
  {
   "cell_type": "code",
   "execution_count": 9,
   "metadata": {
    "collapsed": false
   },
   "outputs": [
    {
     "data": {
      "text/html": [
       "<iframe id=\"igraph\" scrolling=\"no\" style=\"border:none;\" seamless=\"seamless\" src=\"https://plot.ly/~yu.yuanpeng/138.embed\" height=\"525px\" width=\"100%\"></iframe>"
      ],
      "text/plain": [
       "<plotly.tools.PlotlyDisplay object>"
      ]
     },
     "execution_count": 9,
     "metadata": {},
     "output_type": "execute_result"
    }
   ],
   "source": [
    "trace_feature1 = go.Bar(\n",
    "    x = features.columns[indices],  # input \n",
    "    y = importances[indices],       # input \n",
    "    error_y=dict(\n",
    "        type='data',\n",
    "        array= std[indices],        # input \n",
    "        visible=True, \n",
    "        color='rgba(184, 188, 219, 1)'),    \n",
    "    marker=dict(\n",
    "        color='rgba(30, 160, 70, 0.7)',\n",
    "        line=dict(color='rgba(30, 160, 70, 1.0)',width=2)),\n",
    "        \n",
    ")\n",
    "\n",
    "data_feature1 = [trace_feature1]\n",
    "layout = go.Layout(\n",
    "    title='Feature Importances <BR> Ranked by Random Forest Classifier',\n",
    "    font=dict(family='Arial', size=18,color='rgb(0, 0, 0)'),\n",
    "    xaxis=dict(\n",
    "        title='Star Rating',\n",
    "        titlefont=dict(\n",
    "            size=16,\n",
    "            color='rgb(15, 15, 15)'\n",
    "        ),\n",
    "        tickfont=dict(\n",
    "            size=14,\n",
    "            color='rgb(107, 107, 107)'\n",
    "        )\n",
    "    ),\n",
    "    yaxis=dict(\n",
    "        title='Importance',\n",
    "        titlefont=dict(\n",
    "            size=16,\n",
    "            color='rgb(15, 15, 15)'\n",
    "        ),\n",
    "        tickfont=dict(\n",
    "            size=14,\n",
    "            color='rgb(107, 107, 107)'\n",
    "        )\n",
    "    ),\n",
    "    margin=dict(l=40,r=60,b=160,t=100,),\n",
    "    bargap=0.15,\n",
    "    annotations = [dict(\n",
    "            x=xi,\n",
    "            y=yi,\n",
    "            text = \"{:.2%}\".format(yi),\n",
    "            font=dict(family='Arial', size=12,color='rgba(66, 119, 244, 1)'),\n",
    "            xanchor='auto',\n",
    "            yanchor='bottom',\n",
    "            showarrow=False,\n",
    "        ) for xi, yi in zip( features.columns[indices], importances[indices] )]  # input \n",
    ")\n",
    "\n",
    "fig_feature1 = go.Figure(data=data_feature1, layout=layout)\n",
    "py.iplot(fig_feature1, filename='feature_bar_RandomForest')"
   ]
  },
  {
   "cell_type": "markdown",
   "metadata": {},
   "source": [
    "# ExtraTreesClassifier\n",
    "The extra trees classifier gave different importances for each feature, but the accuracy for this model is comparable to the random forest classifier. The feature importances of this model were more consistent with the way elite users are elected according to yelp so it was chosen as the preferred model. The most important features, the number of fans, the review count, and the reviews considered useful, matches our intuition about what makes a user elite or popular. Those that publish many useful reviews are likely to have many fans or followers that respect the users opinion giving them credibilty.  "
   ]
  },
  {
   "cell_type": "code",
   "execution_count": 10,
   "metadata": {
    "collapsed": false
   },
   "outputs": [
    {
     "name": "stdout",
     "output_type": "stream",
     "text": [
      "Are you sure you want to train another classifier over all the data?. A saved classifier is loaded below!\n"
     ]
    }
   ],
   "source": [
    "if False:\n",
    "    from sklearn.ensemble import ExtraTreesClassifier\n",
    "\n",
    "    features = userDf.select_dtypes(include=[np.number])\n",
    "    target = userDf['target']\n",
    "    clf = ExtraTreesClassifier(n_jobs=-1)\n",
    "    numFolds=10\n",
    "    absoluteError=0.0\n",
    "    sqError=0.0\n",
    "    R2 = 0.0\n",
    "    kf = cross_validation.KFold(len(features), n_folds=numFolds, shuffle=True)\n",
    "\n",
    "    for train_index, test_index in kf:\n",
    "        xTrain, xTest =  features.iloc[train_index], features.iloc[test_index]\n",
    "        yTrain, yTest = target.iloc[train_index], target.iloc[test_index]\n",
    "        print 'Epoch Score:',clf.fit(xTrain,yTrain).score(xTest,yTest)\n",
    "        absoluteError = absoluteError + metrics.mean_absolute_error(yTest, clf.predict(xTest))\n",
    "        sqError = sqError + metrics.mean_squared_error(yTest, clf.predict(xTest))\n",
    "        R2 = R2 + metrics.r2_score(yTest,clf.predict(xTest))\n",
    "    print 'Absolute Error:',absoluteError/numFolds\n",
    "    print 'Squared Error:',sqError/numFolds\n",
    "    print 'R2:',R2/numFolds\n",
    "else:\n",
    "        print \"Are you sure you want to train another classifier over all the data?. A saved classifier is loaded below!\""
   ]
  },
  {
   "cell_type": "code",
   "execution_count": 11,
   "metadata": {
    "collapsed": false
   },
   "outputs": [
    {
     "name": "stdout",
     "output_type": "stream",
     "text": [
      "Feature ranking:\n",
      "1.  fans (0.181519)\n",
      "2.  review_count (0.113730)\n",
      "3.  votes.useful (0.097147)\n",
      "4.  votes.cool (0.096159)\n",
      "5.  votes.funny (0.072553)\n",
      "6.  compliments.hot (0.070591)\n",
      "7.  compliments.cool (0.054360)\n",
      "8.  compliments.writer (0.051730)\n",
      "9.  compliments.more (0.051315)\n",
      "10.  average_stars (0.039921)\n",
      "11.  number of Friends (0.037733)\n",
      "12.  compliments.plain (0.034299)\n",
      "13.  compliments.note (0.024389)\n",
      "14.  compliments.funny (0.018285)\n",
      "15.  compliments.cute (0.017926)\n",
      "16.  compliments.photos (0.016681)\n",
      "17.  compliments.profile (0.015117)\n",
      "18.  compliments.list (0.006547)\n"
     ]
    },
    {
     "data": {
      "image/png": "[encoded data removed]",
      "text/plain": [
       "<matplotlib.figure.Figure at 0x10c249f90>"
      ]
     },
     "metadata": {},
     "output_type": "display_data"
    }
   ],
   "source": [
    "from sklearn.externals import joblib\n",
    "\n",
    "###### SUPER IMPORTANT ###############\n",
    "#This loads the classifer that I have saved.\n",
    "clf = joblib.load('ExtraTreesClassifier_Elite.pkl') \n",
    "################# END ###############\n",
    "importances = clf.feature_importances_\n",
    "std = np.std([tree.feature_importances_ for tree in clf.estimators_],\n",
    "             axis=0)\n",
    "indices = np.argsort(importances)[::-1]\n",
    "\n",
    "# Print the feature ranking\n",
    "print(\"Feature ranking:\")\n",
    "\n",
    "for f in range(features.shape[1]):\n",
    "    print(\"%d.  %s (%f)\" % (f + 1, features.columns[indices[f]], importances[indices[f]]))\n",
    "\n",
    "# Plot the feature importances of the forest\n",
    "plt.figure()\n",
    "plt.title(\"Feature importances\")\n",
    "plt.xlabel(\"Feature Index\")\n",
    "plt.ylabel(\"Importance\")\n",
    "plt.bar(range(features.shape[1]), importances[indices],\n",
    "       color=\"r\", yerr=std[indices], align=\"center\")\n",
    "plt.xticks(range(features.shape[1]), indices)\n",
    "plt.xlim([-1, features.shape[1]])\n",
    "plt.show()"
   ]
  },
  {
   "cell_type": "code",
   "execution_count": 12,
   "metadata": {
    "collapsed": false
   },
   "outputs": [
    {
     "data": {
      "text/html": [
       "<iframe id=\"igraph\" scrolling=\"no\" style=\"border:none;\" seamless=\"seamless\" src=\"https://plot.ly/~yu.yuanpeng/136.embed\" height=\"525px\" width=\"100%\"></iframe>"
      ],
      "text/plain": [
       "<plotly.tools.PlotlyDisplay object>"
      ]
     },
     "execution_count": 12,
     "metadata": {},
     "output_type": "execute_result"
    }
   ],
   "source": [
    "trace_feature2 = go.Bar(\n",
    "    x = features.columns[indices],  # input \n",
    "    y = importances[indices],       # input \n",
    "    error_y=dict(\n",
    "        type='data',\n",
    "        array= std[indices],        # input \n",
    "        visible=True, \n",
    "        color='rgba(184, 188, 219, 1)'),    \n",
    "    marker=dict(\n",
    "        color='rgba(244, 191, 66, 0.7)',\n",
    "        line=dict(color='rgba(244, 191, 66, 1.0)',width=2)),\n",
    "        \n",
    ")\n",
    "\n",
    "data_feature2 = [trace_feature2]\n",
    "layout = go.Layout(\n",
    "    title='Feature Importances <BR> Ranked by Extra Trees Classifier',\n",
    "    font=dict(family='Arial', size=18,color='rgb(0, 0, 0)'),\n",
    "    xaxis=dict(\n",
    "        title='Star Rating',\n",
    "        titlefont=dict(\n",
    "            size=16,\n",
    "            color='rgb(15, 15, 15)'\n",
    "        ),\n",
    "        tickfont=dict(\n",
    "            size=14,\n",
    "            color='rgb(107, 107, 107)'\n",
    "        )\n",
    "    ),\n",
    "    yaxis=dict(\n",
    "        title='Importance',\n",
    "        titlefont=dict(\n",
    "            size=16,\n",
    "            color='rgb(15, 15, 15)'\n",
    "        ),\n",
    "        tickfont=dict(\n",
    "            size=14,\n",
    "            color='rgb(107, 107, 107)'\n",
    "        )\n",
    "    ),\n",
    "    margin=dict(l=40,r=60,b=160,t=100,),\n",
    "    bargap=0.15,\n",
    "    annotations = [dict(\n",
    "            x=xi,\n",
    "            y=yi,\n",
    "            text = \"{:.2%}\".format(yi),\n",
    "            font=dict(family='Arial', size=12,color='rgba(66, 119, 244, 1)'),\n",
    "            xanchor='auto',\n",
    "            yanchor='bottom',\n",
    "            showarrow=False,\n",
    "        ) for xi, yi in zip( features.columns[indices], importances[indices] )]  # input \n",
    ")\n",
    "\n",
    "fig_feature2 = go.Figure(data=data_feature2, layout=layout)\n",
    "py.iplot(fig_feature2, filename='feature_bar_ExtraTreesClassifier')"
   ]
  },
  {
   "cell_type": "markdown",
   "metadata": {},
   "source": [
    "# TPOT\n",
    "Mannn... I need a super computer to run this. The runtime on this data set is probably hours?!"
   ]
  },
  {
   "cell_type": "code",
   "execution_count": 13,
   "metadata": {
    "collapsed": false
   },
   "outputs": [
    {
     "data": {
      "text/plain": [
       "\"X_train, X_test, Y_train, Y_test =  train_test_split(features,userDf['target'],train_size=0.8,test_size=0.2)\\n\\ntpot = TPOTClassifier(generations=5, population_size=20,verbosity=2)\\ntpot.fit(X_train, Y_train)\\nprint tpot.score(X_test,Y_test)\""
      ]
     },
     "execution_count": 13,
     "metadata": {},
     "output_type": "execute_result"
    }
   ],
   "source": [
    "'''X_train, X_test, Y_train, Y_test =  train_test_split(features,userDf['target'],train_size=0.8,test_size=0.2)\n",
    "\n",
    "tpot = TPOTClassifier(generations=5, population_size=20,verbosity=2)\n",
    "tpot.fit(X_train, Y_train)\n",
    "print tpot.score(X_test,Y_test)'''"
   ]
  },
  {
   "cell_type": "markdown",
   "metadata": {},
   "source": [
    "# Creating a measure of Elitism\n",
    "Using the feature importances from the classifier we decided to delve deeper into creating a score for the reliability or credibility of the user. The score is calculated by vectorizing the classifier weights, and the numeric features for each user, and computing the inner product. This produces a linear metric based on the values of the important features and each user that we will investigate further. "
   ]
  },
  {
   "cell_type": "code",
   "execution_count": 14,
   "metadata": {
    "collapsed": false
   },
   "outputs": [],
   "source": [
    "#make dictionary of feature importances\n",
    "sample = userDf.iloc[0:5,:]\n",
    "#print sample\n",
    "factors = dict()\n",
    "for f in range(features.shape[1]):\n",
    "    factors[features.columns[indices[f]]] = importances[indices[f]]\n",
    "#print factors.keys()\n",
    "#print type(factors.keys())\n",
    "#print factors.values()\n",
    "\n",
    "#define a function to calculate the score from the important features. The score a metric to see 'how elite' a user is.\n",
    "def getEliteScore(x):\n",
    "    return x[factors.keys()].dot(factors.values())\n",
    "\n",
    "#fill missing values with 0.\n",
    "userDf.fillna(0,inplace=True)\n",
    "\n",
    "#TEST\n",
    "#sample['score']=sample.apply(lambda x : getEliteScore(x),axis=1)\n",
    "#print sample['score']\n",
    "\n",
    "#Add elite metric to data frame column 'score'.\n",
    "userDf['score']=userDf.apply(lambda x : getEliteScore(x),axis=1)"
   ]
  },
  {
   "cell_type": "markdown",
   "metadata": {},
   "source": [
    "# How close are you to being worthy of the elite class?\n",
    "\n",
    "To measure how far away a user is from being elite, we first need to determine the score cuttoff for elitism. We could take the absolute minimum, median, mean, or a more advanced measure to determine the liklihood that a user is eilte or near the threshold. One idea is to try and fit a distribution to the scores of elite users and see if they also follow a normal distribution. This would allow for a probability of being elite to be calculated for all users not just the elite ones!\n",
    "\n",
    "Again the way the scores are distributed among the elite users is frustrating! It looks almost like a normal or a skew normal distribution but a number of outliers are causing the distributino"
   ]
  },
  {
   "cell_type": "code",
   "execution_count": 15,
   "metadata": {
    "collapsed": false
   },
   "outputs": [
    {
     "name": "stdout",
     "output_type": "stream",
     "text": [
      "Elite user stats\n",
      "count    35796.000000\n",
      "mean       167.647958\n",
      "std        448.877419\n",
      "min          1.626000\n",
      "25%         35.908576\n",
      "50%         69.764015\n",
      "75%        146.111220\n",
      "max      20826.351833\n",
      "Name: score, dtype: float64\n",
      "non-Elite user stats\n",
      "count    650760.000000\n",
      "mean          4.519369\n",
      "std          28.169025\n",
      "min           0.000000\n",
      "25%           0.579192\n",
      "50%           1.355341\n",
      "75%           3.867790\n",
      "max       17643.735934\n",
      "Name: score, dtype: float64\n",
      "All user stats\n",
      "count    686556.000000\n",
      "mean         13.024649\n",
      "std         112.126695\n",
      "min           0.000000\n",
      "25%           0.611350\n",
      "50%           1.497447\n",
      "75%           4.815205\n",
      "max       20826.351833\n",
      "Name: score, dtype: float64\n"
     ]
    },
    {
     "data": {
      "text/plain": [
       "<matplotlib.axes._subplots.AxesSubplot at 0x117af4390>"
      ]
     },
     "execution_count": 15,
     "metadata": {},
     "output_type": "execute_result"
    },
    {
     "data": {
      "image/png": "[encoded data removed]",
      "text/plain": [
       "<matplotlib.figure.Figure at 0x105fa9dd0>"
      ]
     },
     "metadata": {},
     "output_type": "display_data"
    },
    {
     "data": {
      "image/png": "[encoded data removed]",
      "text/plain": [
       "<matplotlib.figure.Figure at 0x11bacf390>"
      ]
     },
     "metadata": {},
     "output_type": "display_data"
    },
    {
     "data": {
      "image/png": "[encoded data removed]",
      "text/plain": [
       "<matplotlib.figure.Figure at 0x11bacf350>"
      ]
     },
     "metadata": {},
     "output_type": "display_data"
    },
    {
     "data": {
      "image/png": "[encoded data removed]",
      "text/plain": [
       "<matplotlib.figure.Figure at 0x11bc44350>"
      ]
     },
     "metadata": {},
     "output_type": "display_data"
    }
   ],
   "source": [
    "#userDf.to_csv('updated_users.csv')\n",
    "#data frame of elite users\n",
    "eliteUsers = userDf[userDf['target']==True]\n",
    "#data fram of normal users\n",
    "normUsers = userDf[userDf['target']==False]\n",
    "print \"Elite user stats\"\n",
    "print eliteUsers['score'].describe()\n",
    "\n",
    "print \"non-Elite user stats\"\n",
    "print normUsers['score'].describe()\n",
    "\n",
    "print \"All user stats\"\n",
    "print userDf['score'].describe()\n",
    "#eliteUsers.sort_values('score',ascending=True)\n",
    "\n",
    "#Create uneven bins to help visualize histogram\n",
    "bins = [0,1,2,3,4,5,10,20,30,50,100,200,300,400,500,1000]\n",
    "#smaller scale for normal users\n",
    "bins2 = [0,1,2,3,4,5,6,7,8,9,10,20]\n",
    "\n",
    "plt.figure()\n",
    "plt.title('Elite Users')\n",
    "plt.xlabel(\"Score\")\n",
    "plt.ylabel(\"User Count\")\n",
    "eliteUsers['score'].hist(bins=20)\n",
    "           \n",
    "plt.figure()\n",
    "plt.title('non-Elite Users')\n",
    "plt.xlabel(\"Score\")\n",
    "plt.ylabel(\"User Count\")\n",
    "normUsers['score'].hist(bins=20)\n",
    "           \n",
    "plt.figure()\n",
    "plt.title('non-Elite Users Zoomed in')\n",
    "plt.xlabel(\"Score\")\n",
    "plt.ylabel(\"User Count\")\n",
    "normUsers['score'].hist(bins=bins2)\n",
    "           \n",
    "plt.figure()\n",
    "plt.title('All Users')\n",
    "plt.xlabel(\"Score\")\n",
    "plt.ylabel(\"User Count\")\n",
    "userDf['score'].hist(bins=bins)"
   ]
  },
  {
   "cell_type": "code",
   "execution_count": 16,
   "metadata": {
    "collapsed": false
   },
   "outputs": [
    {
     "name": "stdout",
     "output_type": "stream",
     "text": [
      "167.647957538\n",
      "69.7640150635\n",
      "20826.3518335\n",
      "1.62600029341\n",
      "Std. Deviation:  448.877418988\n",
      "Outlier Cuttoff:  1346.63225696\n"
     ]
    }
   ],
   "source": [
    "eliteScores = eliteUsers[['score']]\n",
    "\n",
    "#print eliteScores\n",
    "print eliteScores['score'].mean()\n",
    "print eliteScores['score'].median()\n",
    "print eliteScores['score'].max()\n",
    "print eliteScores['score'].min()\n",
    "std = eliteScores['score'].std()\n",
    "print 'Std. Deviation: ',std\n",
    "print 'Outlier Cuttoff: ',std*3\n",
    "#print eliteScores[eliteScores['score'] > std*3]\n",
    "\n",
    "############### SUPER IMPORTANT !!!!!!!!! ##########\n",
    "#This forces the outliers to equal 3 times the std. deviation. (around 1200)\n",
    "eliteScores['score'].clip(0,3*std)\n",
    "##################################################\n",
    "\n",
    "#Standardize scores to [0,1]\n",
    "eliteScores['stdScore'] = eliteScores['score'].apply(lambda x : ( x - eliteScores['score'].min() ) / ( eliteScores['score'].max()-eliteScores['score'].min()))\n",
    "#normalize scores. potentially creates negative values.\n",
    "eliteScores['normScore'] = eliteScores['score'].apply(lambda x : ( x - eliteScores['score'].mean() ) / ( eliteScores['score'].max()-eliteScores['score'].min()))"
   ]
  },
  {
   "cell_type": "code",
   "execution_count": 17,
   "metadata": {
    "collapsed": false
   },
   "outputs": [
    {
     "name": "stdout",
     "output_type": "stream",
     "text": [
      "count    35796.000000\n",
      "mean         0.007972\n",
      "std          0.021555\n",
      "min          0.000000\n",
      "25%          0.001646\n",
      "50%          0.003272\n",
      "75%          0.006938\n",
      "max          1.000000\n",
      "Name: stdScore, dtype: float64\n",
      "count    3.579600e+04\n",
      "mean    -3.545473e-17\n",
      "std      2.155502e-02\n",
      "min     -7.972348e-03\n",
      "25%     -6.326104e-03\n",
      "50%     -4.700371e-03\n",
      "75%     -1.034191e-03\n",
      "max      9.920277e-01\n",
      "Name: normScore, dtype: float64\n",
      "count    35796.000000\n",
      "mean         4.362510\n",
      "std          1.083002\n",
      "min          0.965462\n",
      "25%          3.608444\n",
      "50%          4.259351\n",
      "75%          4.991189\n",
      "max          9.944022\n",
      "Name: logScore, dtype: float64\n",
      "count    686556.000000\n",
      "mean          1.301371\n",
      "std           1.138557\n",
      "min           0.000000\n",
      "25%           0.477073\n",
      "50%           0.915269\n",
      "75%           1.760476\n",
      "max           9.944022\n",
      "Name: logScore, dtype: float64\n"
     ]
    },
    {
     "data": {
      "text/plain": [
       "<matplotlib.axes._subplots.AxesSubplot at 0x11a87a450>"
      ]
     },
     "execution_count": 17,
     "metadata": {},
     "output_type": "execute_result"
    },
    {
     "data": {
      "image/png": "[encoded data removed]",
      "text/plain": [
       "<matplotlib.figure.Figure at 0x11bed6ed0>"
      ]
     },
     "metadata": {},
     "output_type": "display_data"
    },
    {
     "data": {
      "image/png": "[encoded data removed]",
      "text/plain": [
       "<matplotlib.figure.Figure at 0x11a868610>"
      ]
     },
     "metadata": {},
     "output_type": "display_data"
    },
    {
     "data": {
      "image/png": "[encoded data removed]",
      "text/plain": [
       "<matplotlib.figure.Figure at 0x11a868d50>"
      ]
     },
     "metadata": {},
     "output_type": "display_data"
    },
    {
     "data": {
      "image/png": "[encoded data removed]",
      "text/plain": [
       "<matplotlib.figure.Figure at 0x11a868e50>"
      ]
     },
     "metadata": {},
     "output_type": "display_data"
    }
   ],
   "source": [
    "#the log function adds 1 to the score before taking the log because log(0) = undefined\n",
    "def adjLog(x):\n",
    "    return np.log(x+1)\n",
    "\n",
    "eliteScores['logScore'] =  eliteScores['score'].apply(adjLog)\n",
    "userDf['logScore'] = userDf['score'].apply(adjLog)\n",
    "print eliteScores['stdScore'].describe()\n",
    "print eliteScores['normScore'].describe()\n",
    "print eliteScores['logScore'].describe()\n",
    "print userDf['logScore'].describe()\n",
    "\n",
    "plt.figure()\n",
    "plt.title('Standardized Elite User Historgram')\n",
    "plt.xlabel(\"Standardized Score\")\n",
    "plt.ylabel(\"User Count\")\n",
    "eliteScores['stdScore'].hist(bins=20,normed=True)\n",
    "\n",
    "plt.figure()\n",
    "plt.title('Normalized Elite User Historgram')\n",
    "plt.xlabel(\"Normalized Score\")\n",
    "plt.ylabel(\"User Count\")\n",
    "eliteScores['normScore'].hist(bins=20,normed=True)\n",
    "\n",
    "plt.figure()\n",
    "plt.title('Elite User Log Score')\n",
    "plt.xlabel(\"Log Score\")\n",
    "plt.ylabel(\"User Count\")           \n",
    "eliteScores['logScore'].hist(bins=20)\n",
    "\n",
    "plt.figure()\n",
    "plt.title('All Users Log Score')\n",
    "plt.xlabel(\"Log Score\")\n",
    "plt.ylabel(\"User Count\")            \n",
    "userDf['logScore'].hist(bins=20)"
   ]
  },
  {
   "cell_type": "code",
   "execution_count": 27,
   "metadata": {
    "collapsed": false
   },
   "outputs": [
    {
     "name": "stdout",
     "output_type": "stream",
     "text": [
      "NormaltestResult(statistic=2535.6385139026079, pvalue=0.0)\n",
      "SkewtestResult(statistic=45.643622950215665, pvalue=0.0)\n"
     ]
    },
    {
     "data": {
      "text/plain": [
       "<matplotlib.text.Text at 0x11ffcbb10>"
      ]
     },
     "execution_count": 27,
     "metadata": {},
     "output_type": "execute_result"
    },
    {
     "data": {
      "image/png": "[encoded data removed]",
      "text/plain": [
       "<matplotlib.figure.Figure at 0x117b9a410>"
      ]
     },
     "metadata": {},
     "output_type": "display_data"
    }
   ],
   "source": [
    "import scipy.stats as stats\n",
    "from scipy.stats import skewnorm\n",
    "import matplotlib.mlab as mlab\n",
    "\n",
    "#print eliteScores['logScore']\n",
    "print stats.normaltest(eliteScores['logScore'])\n",
    "print stats.skewtest(eliteScores['logScore'])\n",
    "\n",
    "eliteScores['logScore'].hist(bins=50,normed=1)\n",
    "mu = eliteScores['logScore'].mean()\n",
    "sigma = eliteScores['logScore'].std()\n",
    "xmin, xmax = plt.xlim()\n",
    "x = np.linspace(xmin, xmax, 100)\n",
    "p = stats.norm.pdf(x, mu, sigma)\n",
    "plt.plot(x, p, 'r', linewidth=2)\n",
    "plt.title('Elite User Log Scores')\n",
    "plt.xlabel(\"Log Score\")\n",
    "plt.ylabel(\"Frequency\")    "
   ]
  },
  {
   "cell_type": "code",
   "execution_count": 19,
   "metadata": {
    "collapsed": false
   },
   "outputs": [],
   "source": [
    "#Standardize log score\n",
    "eliteScores['logstdScore'] = eliteScores['logScore'].apply(lambda x : ( x - eliteScores['logScore'].min() ) / ( eliteScores['logScore'].max()-eliteScores['logScore'].min()))\n",
    "\n",
    "#Normalize log score\n",
    "eliteScores['lognormScore'] = eliteScores['logScore'].apply(lambda x : ( x - eliteScores['logScore'].mean() ) / ( eliteScores['logScore'].max()-eliteScores['logScore'].min()))"
   ]
  },
  {
   "cell_type": "code",
   "execution_count": 29,
   "metadata": {
    "collapsed": false
   },
   "outputs": [
    {
     "name": "stdout",
     "output_type": "stream",
     "text": [
      "count    35796.000000\n",
      "mean         0.378351\n",
      "std          0.120621\n",
      "min          0.000000\n",
      "25%          0.294366\n",
      "50%          0.366862\n",
      "75%          0.448371\n",
      "max          1.000000\n",
      "Name: logstdScore, dtype: float64\n",
      "count    3.579600e+04\n",
      "mean     4.063487e-15\n",
      "std      1.206209e-01\n",
      "min     -3.783511e-01\n",
      "25%     -8.398523e-02\n",
      "50%     -1.148957e-02\n",
      "75%      7.001996e-02\n",
      "max      6.216489e-01\n",
      "Name: lognormScore, dtype: float64\n"
     ]
    },
    {
     "data": {
      "text/plain": [
       "[<matplotlib.lines.Line2D at 0x11ea3b390>]"
      ]
     },
     "execution_count": 29,
     "metadata": {},
     "output_type": "execute_result"
    },
    {
     "data": {
      "image/png": "[encoded data removed]",
      "text/plain": [
       "<matplotlib.figure.Figure at 0x11d4dfe90>"
      ]
     },
     "metadata": {},
     "output_type": "display_data"
    },
    {
     "data": {
      "image/png": "[encoded data removed]",
      "text/plain": [
       "<matplotlib.figure.Figure at 0x11d4b5d50>"
      ]
     },
     "metadata": {},
     "output_type": "display_data"
    }
   ],
   "source": [
    "print eliteScores['logstdScore'].describe()\n",
    "print eliteScores['lognormScore'].describe()\n",
    "\n",
    "plt.figure()\n",
    "eliteScores['logstdScore'].hist(bins=50,normed=1)\n",
    "mu = eliteScores['logstdScore'].mean()\n",
    "sigma = eliteScores['logstdScore'].std()\n",
    "xmin, xmax = plt.xlim()\n",
    "x = np.linspace(xmin, xmax, 100)\n",
    "p = stats.norm.pdf(x, mu, sigma)\n",
    "plt.plot(x, p, 'r', linewidth=2)\n",
    "plt.title('Elite User Log Scores')\n",
    "plt.xlabel(\"Log Score\")\n",
    "plt.ylabel(\"Nomalized Frequency\")  \n",
    "\n",
    "plt.figure()\n",
    "eliteScores['lognormScore'].hist(bins=50,normed=1)\n",
    "mu = eliteScores['lognormScore'].mean()\n",
    "sigma = eliteScores['lognormScore'].std()\n",
    "xmin, xmax = plt.xlim()\n",
    "x = np.linspace(xmin, xmax, 100)\n",
    "p = stats.norm.pdf(x, mu, sigma)\n",
    "plt.plot(x, p, 'r', linewidth=2)\n"
   ]
  },
  {
   "cell_type": "code",
   "execution_count": 21,
   "metadata": {
    "collapsed": false
   },
   "outputs": [],
   "source": [
    "#First column is probability of non-elite. Second column is prob of elite.\n",
    "#Create dataframe column with probabilities from the classifier.\n",
    "userDf['probNormalUser'] =  clf.predict_proba(features)[:,0]\n",
    "userDf['probEliteUser'] = clf.predict_proba(features)[:,1]"
   ]
  },
  {
   "cell_type": "code",
   "execution_count": 22,
   "metadata": {
    "collapsed": false
   },
   "outputs": [
    {
     "name": "stdout",
     "output_type": "stream",
     "text": [
      "NormaltestResult(statistic=2535.6385139026079, pvalue=0.0)\n",
      "NormaltestResult(statistic=2535.6385139026129, pvalue=0.0)\n"
     ]
    },
    {
     "data": {
      "image/png": "[encoded data removed]",
      "text/plain": [
       "<matplotlib.figure.Figure at 0x11a27aa10>"
      ]
     },
     "metadata": {},
     "output_type": "display_data"
    }
   ],
   "source": [
    "print stats.normaltest(eliteScores['lognormScore'])\n",
    "print stats.normaltest(eliteScores['logstdScore'])\n",
    "mu, sigma =  stats.norm.fit(eliteScores['logstdScore'])\n",
    "plt.figure()\n",
    "eliteScores['logstdScore'].hist(bins=50,normed=1)\n",
    "xmin, xmax = plt.xlim()\n",
    "x = np.linspace(xmin, xmax, 100)\n",
    "p = stats.norm.pdf(x, mu, sigma)\n",
    "plt.plot(x, p, 'r', linewidth=2)\n",
    "\n",
    "scoreDist = stats.norm(mu, sigma)\n"
   ]
  },
  {
   "cell_type": "code",
   "execution_count": 23,
   "metadata": {
    "collapsed": false
   },
   "outputs": [
    {
     "name": "stdout",
     "output_type": "stream",
     "text": [
      "0         0.776093\n",
      "1         0.999920\n",
      "2         0.960051\n",
      "3         0.031233\n",
      "4         0.207606\n",
      "5         0.999973\n",
      "6         0.268578\n",
      "7         0.355069\n",
      "8         0.562010\n",
      "9         0.003064\n",
      "10        0.090401\n",
      "11        0.989181\n",
      "12        0.249407\n",
      "13        0.315427\n",
      "14        0.046753\n",
      "15        0.004390\n",
      "16        0.020422\n",
      "17        0.076945\n",
      "18        0.038285\n",
      "19        0.001274\n",
      "20        0.001862\n",
      "21        0.034053\n",
      "22        0.200461\n",
      "23        0.037352\n",
      "24        0.004357\n",
      "25        0.005460\n",
      "26        0.033636\n",
      "27        0.056989\n",
      "28        0.024703\n",
      "29        0.010858\n",
      "            ...   \n",
      "686526    0.011384\n",
      "686527    0.015569\n",
      "686528    0.002186\n",
      "686529    0.004283\n",
      "686530    0.004227\n",
      "686531    0.002254\n",
      "686532    0.003596\n",
      "686533    0.002326\n",
      "686534    0.001788\n",
      "686535    0.004611\n",
      "686536    0.003011\n",
      "686537    0.004160\n",
      "686538    0.004409\n",
      "686539    0.004188\n",
      "686540    0.002844\n",
      "686541    0.020061\n",
      "686542    0.021324\n",
      "686543    0.025333\n",
      "686544    0.002595\n",
      "686545    0.012217\n",
      "686546    0.003949\n",
      "686547    0.007914\n",
      "686548    0.002669\n",
      "686549    0.015491\n",
      "686550    0.001633\n",
      "686551    0.004108\n",
      "686552    0.078803\n",
      "686553    0.003212\n",
      "686554    0.003045\n",
      "686555    0.002087\n",
      "Name: customProbEliteUser, dtype: float64\n"
     ]
    }
   ],
   "source": [
    "usermin = userDf['logScore'].min()\n",
    "usermax = userDf['logScore'].max()\n",
    "usermean = userDf['logScore'].mean()\n",
    "\n",
    "\n",
    "userDf['logstdScore'] = userDf['logScore'].apply(lambda x : ( x - usermin ) / ( usermax-usermin))\n",
    "userDf['lognormScore'] = userDf['logScore'].apply(lambda x : ( x - usermean ) / ( usermax-usermin))\n",
    "\n",
    "userDf['customProbEliteUser'] = userDf['logstdScore'].apply(scoreDist.cdf)\n",
    "print userDf['customProbEliteUser'] "
   ]
  },
  {
   "cell_type": "code",
   "execution_count": 24,
   "metadata": {
    "collapsed": true
   },
   "outputs": [],
   "source": [
    "#userDf.to_csv('processed_user_data.csv')"
   ]
  },
  {
   "cell_type": "markdown",
   "metadata": {},
   "source": [
    "# Model Persistence\n",
    "I'm tired of getting a new model everytime and I'm too lazy to find a classifier that converges to the same model. This saves the classifier that I ran and normalized the score for. The cell below shows how to save a model and the commented section shows how to load the model from the pickle(.pkl) file."
   ]
  },
  {
   "cell_type": "code",
   "execution_count": 25,
   "metadata": {
    "collapsed": false
   },
   "outputs": [],
   "source": [
    "import pickle\n",
    "from sklearn.externals import joblib\n",
    "\n",
    "#s = pickle.dumps(clf)\n",
    "#joblib.dump(clf, 'ExtraTreesClassifier_Elite.pkl') \n",
    "\n",
    "#Use this to load the classifier.\n",
    "#clf = joblib.load('ExtraTreesClassifier_Elite.pkl') "
   ]
  },
  {
   "cell_type": "code",
   "execution_count": null,
   "metadata": {
    "collapsed": true
   },
   "outputs": [],
   "source": []
  }
 ],
 "metadata": {
  "anaconda-cloud": {},
  "kernelspec": {
   "display_name": "Python [Root]",
   "language": "python",
   "name": "Python [Root]"
  },
  "language_info": {
   "codemirror_mode": {
    "name": "ipython",
    "version": 2
   },
   "file_extension": ".py",
   "mimetype": "text/x-python",
   "name": "python",
   "nbconvert_exporter": "python",
   "pygments_lexer": "ipython2",
   "version": "2.7.12"
  }
 },
 "nbformat": 4,
 "nbformat_minor": 0
}
